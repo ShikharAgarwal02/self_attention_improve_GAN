{
 "cells": [
  {
   "cell_type": "code",
   "execution_count": 1,
   "id": "c5baacd0-f3d6-48fa-a0e4-3019ecd89118",
   "metadata": {},
   "outputs": [
    {
     "name": "stdout",
     "output_type": "stream",
     "text": [
      "Generated Image Shape: torch.Size([1, 3, 8, 8])\n"
     ]
    }
   ],
   "source": [
    "import torch\n",
    "import torch.nn as nn\n",
    "\n",
    "\n",
    "class Generator(nn.Module):\n",
    "    def __init__(self, z_dim=100, img_channels=3):\n",
    "        super(Generator, self).__init__()  \n",
    "        self.gen = nn.Sequential(\n",
    "            nn.ConvTranspose2d(z_dim, 64, kernel_size=4, stride=1, padding=0),\n",
    "            nn.BatchNorm2d(64),\n",
    "            nn.ReLU(),\n",
    "            nn.ConvTranspose2d(64, img_channels, kernel_size=4, stride=2, padding=1),\n",
    "            nn.Tanh()\n",
    "        )\n",
    "\n",
    "    def forward(self, z):  \n",
    "        return self.gen(z)\n",
    "\n",
    "\n",
    "z = torch.randn(1, 100, 1, 1)  \n",
    "gen = Generator()  \n",
    "output = gen(z)  \n",
    "\n",
    "print(\"Generated Image Shape:\", output.shape)  \n"
   ]
  },
  {
   "cell_type": "code",
   "execution_count": null,
   "id": "fbf32f49-58f5-4211-beb7-07b19df6d2ae",
   "metadata": {},
   "outputs": [],
   "source": []
  }
 ],
 "metadata": {
  "kernelspec": {
   "display_name": "Python 3 (ipykernel)",
   "language": "python",
   "name": "python3"
  },
  "language_info": {
   "codemirror_mode": {
    "name": "ipython",
    "version": 3
   },
   "file_extension": ".py",
   "mimetype": "text/x-python",
   "name": "python",
   "nbconvert_exporter": "python",
   "pygments_lexer": "ipython3",
   "version": "3.11.7"
  }
 },
 "nbformat": 4,
 "nbformat_minor": 5
}
